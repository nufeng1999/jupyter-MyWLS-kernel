{
 "cells": [
  {
   "cell_type": "code",
   "execution_count": null,
   "id": "e89bf7e5-4f2a-490f-ba8e-160e0fe5cd2d",
   "metadata": {},
   "outputs": [],
   "source": [
    "##%runinterm\n",
    "##%term:c:\\Windows\\System32\\cmd.exe /c start\n",
    "##%execfile:bash src/test.sh\n",
    "##%overwritefile\n",
    "##%file:src/test.sh\n",
    "#!/bin/bash\n",
    "ls -al /\n"
   ]
  },
  {
   "cell_type": "code",
   "execution_count": null,
   "id": "19b580f5-a5a5-4f06-a710-c78e07cf42e4",
   "metadata": {},
   "outputs": [],
   "source": [
    "//%noruncode\n",
    "//%command:ls"
   ]
  },
  {
   "cell_type": "code",
   "execution_count": null,
   "id": "3c072d04-0882-4385-8585-06755f724af3",
   "metadata": {},
   "outputs": [],
   "source": [
    "//%log:0\n",
    "//%pubcmd:--help\n",
    "///%kcmd:ll -h\n",
    "//%noruncode"
   ]
  }
 ],
 "metadata": {
  "interpreter": {
   "hash": "75596ead963b1eeb4cf3ce4e8a9c4a864202dd5fd95b19dff9cbdac9756331e2"
  },
  "kernelspec": {
   "display_name": "MyWLS",
   "language": "WolframScript",
   "name": "mywls"
  },
  "language_info": {
   "file_extension": ".sh",
   "mimetype": "text/x-sh",
   "name": "WolframScript"
  }
 },
 "nbformat": 4,
 "nbformat_minor": 5
}
