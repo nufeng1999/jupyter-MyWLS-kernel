{
 "cells": [
  {
   "cell_type": "code",
   "execution_count": null,
   "id": "85ff8736-1955-487b-b138-ce0a91dc7822",
   "metadata": {},
   "outputs": [],
   "source": [
    "##---------------------------\n",
    "//%overwritefile\n",
    "//%file:src/test1.wls\n",
    "//%runprgargs:-print all -format PNG\n",
    "//%outputtype:image/png\n",
    "//%log:0\n",
    "##---------------------------\n",
    "ListLinePlot[RandomFunction[WienerProcess[],{0,10,0.01},10]]\n"
   ]
  },
  {
   "cell_type": "code",
   "execution_count": null,
   "id": "221e5578-36f8-41ff-a50d-84316e49560d",
   "metadata": {},
   "outputs": [],
   "source": [
    "//%overwritefile\n",
    "//%file:src/test2.wls\n",
    "//%runprgargs:-print all -format html\n",
    "//%outputtype:image/png\n",
    "//%log:1\n",
    "(*Print[\"--1----\"]*)\n",
    "(*Graphics3D[Sphere[ ]]*)\n",
    "DynamicModule[{x}, {Slider[Dynamic[x]], Dynamic[x]}]"
   ]
  },
  {
   "cell_type": "code",
   "execution_count": null,
   "id": "0316d465-67ec-4a1e-87a5-05fa22f9e885",
   "metadata": {},
   "outputs": [],
   "source": [
    "//%overwritefile\n",
    "//%file:src/test3.wls\n",
    "//%runprgargs:-print all\n",
    "///%outputtype:image/png\n",
    "//%log:0\n",
    "(*Print[\"--1----\"]*)\n",
    "\n",
    "\n",
    "DynamicModule[{x}, {Slider[Dynamic[x]], Dynamic[x]}]"
   ]
  },
  {
   "cell_type": "code",
   "execution_count": null,
   "id": "887cf231",
   "metadata": {},
   "outputs": [],
   "source": []
  }
 ],
 "metadata": {
  "interpreter": {
   "hash": "38bff49347d1e315ffe4e438ca69c956c90694fd6c920dd305da3d1e99520bc7"
  },
  "kernelspec": {
   "display_name": "MyWLS",
   "language": "WolframScript",
   "name": "mywls"
  },
  "language_info": {
   "file_extension": ".wls",
   "mimetype": "text/wolfram",
   "name": "Wolfram Language"
  },
  "widgets": {
   "application/vnd.jupyter.widget-state+json": {
    "state": {},
    "version_major": 2,
    "version_minor": 0
   }
  }
 },
 "nbformat": 4,
 "nbformat_minor": 5
}
